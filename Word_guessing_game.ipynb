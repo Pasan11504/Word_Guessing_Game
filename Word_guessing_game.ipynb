{
  "nbformat": 4,
  "nbformat_minor": 0,
  "metadata": {
    "colab": {
      "provenance": []
    },
    "kernelspec": {
      "name": "python3",
      "display_name": "Python 3"
    },
    "language_info": {
      "name": "python"
    }
  },
  "cells": [
    {
      "cell_type": "code",
      "execution_count": 9,
      "metadata": {
        "id": "_WH4Red6UgsO"
      },
      "outputs": [],
      "source": [
        "import random\n",
        "word_bank = ['pizza', 'mango', 'elephant', 'tiktok', 'university']\n",
        "word = random.choice(word_bank)\n",
        "guessedWord = ['_'] * len(word)\n",
        "attempts = 10"
      ]
    },
    {
      "cell_type": "code",
      "source": [
        "while attempts > 0:\n",
        "    print('\\nCurrent word: ' + ' '.join(guessedWord))\n",
        "\n",
        "    guess = input('Guess a letter: ').lower()\n",
        "\n",
        "    if guess in word:\n",
        "        for i in range(len(word)):\n",
        "            if word[i] == guess:\n",
        "                guessedWord[i] = guess\n",
        "        print('Great guess!')\n",
        "    else:\n",
        "        attempts -= 1\n",
        "        print('Wrong guess! Attempts left: ' + str(attempts))\n",
        "\n",
        "    if '_' not in guessedWord:\n",
        "        print('\\nCongratulations!! You guessed the word: ' + word)\n",
        "        break\n",
        "\n",
        "    if attempts == 0 and '_' in guessedWord:\n",
        "        print('\\nYou\\'ve run out of attempts! The word was: ' + word)\n"
      ],
      "metadata": {
        "colab": {
          "base_uri": "https://localhost:8080/"
        },
        "id": "Mg2ZLXDOUpej",
        "outputId": "02012d45-2bda-4f95-a485-ef35421c3dfd"
      },
      "execution_count": 10,
      "outputs": [
        {
          "output_type": "stream",
          "name": "stdout",
          "text": [
            "\n",
            "Current word: _ _ _ _ _\n",
            "Guess a letter: u\n",
            "Wrong guess! Attempts left: 9\n",
            "\n",
            "Current word: _ _ _ _ _\n",
            "Guess a letter: p\n",
            "Wrong guess! Attempts left: 8\n",
            "\n",
            "Current word: _ _ _ _ _\n",
            "Guess a letter: m\n",
            "Great guess!\n",
            "\n",
            "Current word: m _ _ _ _\n",
            "Guess a letter: l\n",
            "Wrong guess! Attempts left: 7\n",
            "\n",
            "Current word: m _ _ _ _\n",
            "Guess a letter: l\n",
            "Wrong guess! Attempts left: 6\n",
            "\n",
            "Current word: m _ _ _ _\n",
            "Guess a letter: p\n",
            "Wrong guess! Attempts left: 5\n",
            "\n",
            "Current word: m _ _ _ _\n",
            "Guess a letter: o\n",
            "Great guess!\n",
            "\n",
            "Current word: m _ _ _ o\n",
            "Guess a letter: k\n",
            "Wrong guess! Attempts left: 4\n",
            "\n",
            "Current word: m _ _ _ o\n",
            "Guess a letter: l\n",
            "Wrong guess! Attempts left: 3\n",
            "\n",
            "Current word: m _ _ _ o\n",
            "Guess a letter: k\n",
            "Wrong guess! Attempts left: 2\n",
            "\n",
            "Current word: m _ _ _ o\n",
            "Guess a letter: k\n",
            "Wrong guess! Attempts left: 1\n",
            "\n",
            "Current word: m _ _ _ o\n",
            "Guess a letter: n\n",
            "Great guess!\n",
            "\n",
            "Current word: m _ n _ o\n",
            "Guess a letter: j\n",
            "Wrong guess! Attempts left: 0\n",
            "\n",
            "You've run out of attempts! The word was: mango\n"
          ]
        }
      ]
    }
  ]
}